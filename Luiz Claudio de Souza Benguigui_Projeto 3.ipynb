{
 "cells": [
  {
   "cell_type": "code",
   "execution_count": 24,
   "id": "a24887f0",
   "metadata": {},
   "outputs": [],
   "source": [
    "class Rios():\n",
    "\n",
    "    def __init__(self, matriz_rios):\n",
    "        self.matriz = matriz_rios\n",
    "        self.linhas = len(matriz_rios)\n",
    "        self.colunas = len(matriz_rios[0])\n",
    "        self.dict_rios = {}\n",
    "        self.PercorreBacia()\n",
    "        self.lista_extensoes = []\n",
    "\n",
    "    def BuscaExtensao(self, linha, coluna, linha_inicio = None, coluna_inicio = None):\n",
    "        \n",
    "        if linha_inicio == None:\n",
    "            linha_origem = linha\n",
    "        else:\n",
    "            linha_origem = linha_inicio\n",
    "        \n",
    "        if coluna_inicio == None:\n",
    "            coluna_origem = coluna\n",
    "        else:\n",
    "            coluna_origem = coluna_inicio\n",
    "\n",
    "        encontra_rio = False\n",
    "        \n",
    "        # Se encontra rio na célula da direita\n",
    "        if coluna < self.colunas - 1 and self.matriz[linha][coluna + 1] == 1:\n",
    "            self.matriz[linha][coluna + 1] = 'X'\n",
    "            encontra_rio = True\n",
    "            if f'{linha_origem}{coluna_origem}' in self.dict_rios.keys():\n",
    "                self.dict_rios[f'{linha_origem}{coluna_origem}'].append(f'{linha}{coluna + 1}')\n",
    "            else:\n",
    "                self.dict_rios[f'{linha_origem}{coluna_origem}'] = [f'{linha}{coluna + 1}']\n",
    "            self.BuscaExtensao(linha, coluna + 1, linha_origem, coluna_origem)\n",
    "\n",
    "        # Se encontra rio na célula da esquerda\n",
    "        if coluna > 0 and self.matriz[linha][coluna - 1] == 1:\n",
    "            self.matriz[linha][coluna - 1] = 'X'\n",
    "            encontra_rio = True\n",
    "            if f'{linha_origem}{coluna_origem}' in self.dict_rios.keys():\n",
    "                self.dict_rios[f'{linha_origem}{coluna_origem}'].append(f'{linha}{coluna - 1}')\n",
    "            else:\n",
    "                self.dict_rios[f'{linha_origem}{coluna_origem}'] = [f'{linha}{coluna - 1}']\n",
    "            self.BuscaExtensao(linha, coluna - 1, linha_origem, coluna_origem)\n",
    "\n",
    "        # Se encontra rio na célula da linha anterior\n",
    "        if linha > 0 and self.matriz[linha - 1][coluna] == 1:\n",
    "            self.matriz[linha - 1][coluna] = 'X'\n",
    "            encontra_rio = True\n",
    "            if f'{linha_origem}{coluna_origem}' in self.dict_rios.keys():\n",
    "                self.dict_rios[f'{linha_origem}{coluna_origem}'].append(f'{linha - 1}{coluna}')\n",
    "            else:\n",
    "                self.dict_rios[f'{linha_origem}{coluna_origem}'] = [f'{linha - 1}{coluna}']\n",
    "            self.BuscaExtensao(linha - 1, coluna, linha_origem, coluna_origem)\n",
    "\n",
    "        # Se encontra rio na célula da linha posterior\n",
    "        if linha < self.linhas - 1 and self.matriz[linha + 1][coluna] == 1:\n",
    "            self.matriz[linha + 1][coluna] = 'X'\n",
    "            encontra_rio = True\n",
    "            if f'{linha_origem}{coluna_origem}' in self.dict_rios.keys():\n",
    "                self.dict_rios[f'{linha_origem}{coluna_origem}'].append(f'{linha + 1}{coluna}')\n",
    "            else:\n",
    "                self.dict_rios[f'{linha_origem}{coluna_origem}'] = [f'{linha + 1}{coluna}']\n",
    "            self.BuscaExtensao(linha + 1, coluna, linha_origem, coluna_origem)\n",
    "        \n",
    "        if encontra_rio == False and linha_inicio == None:\n",
    "            self.dict_rios[f'{linha_origem}{coluna_origem}'] = [f'{linha}{coluna}']\n",
    "        return self.dict_rios\n",
    "            \n",
    "    def PercorreBacia(self):\n",
    "        # Percorre as linhas da Matriz\n",
    "        for linha in range(self.linhas):\n",
    "            # Percorre as colunas da Matriz\n",
    "            for coluna in range(self.colunas):\n",
    "                # Faz recursão caso a célula da matriz contenha um rio\n",
    "                if self.matriz[linha][coluna] == 1:\n",
    "                    # Altera o conteúdo da célula que continha o rio\n",
    "                    self.matriz[linha][coluna] = 'X'\n",
    "                    self.BuscaExtensao(linha, coluna)\n",
    "\n",
    "    def MapaBacia(self):\n",
    "        return self.dict_rios\n",
    "\n",
    "    def TamanhoRios(self):\n",
    "        for rio_inicial, afluentes in self.dict_rios.items():\n",
    "            if len(afluentes) == 1 and rio_inicial == afluentes[0]:\n",
    "                self.lista_extensoes.append(1)\n",
    "            else:\n",
    "                self.lista_extensoes.append(len(afluentes) + 1)\n",
    "        return sorted(self.lista_extensoes)\n",
    "\n",
    "    def TamanhoBacia(self):\n",
    "        print(f'Bacia Hidrográfica oriunda de Matriz com')\n",
    "        print(f'{self.linhas} Linhas e {self.colunas} Colunas')\n",
    "        \n"
   ]
  },
  {
   "cell_type": "code",
   "execution_count": 25,
   "id": "c476d269",
   "metadata": {},
   "outputs": [
    {
     "name": "stdout",
     "output_type": "stream",
     "text": [
      "Lista de Extensão dos Rios\n",
      "[1, 2, 2, 4]\n",
      "\n",
      "Bacia Hidrográfica oriunda de Matriz com\n",
      "5 Linhas e 5 Colunas\n",
      "\n",
      "Dicionário do Mapa Hidrográfico\n",
      "{'01': ['11', '10', '21'], '13': ['14'], '34': ['34'], '41': ['42']}\n",
      "\n"
     ]
    }
   ],
   "source": [
    "m_entrada = [\n",
    "    [0, 1, 0, 0, 0],\n",
    "    [1, 1, 0, 1, 1],\n",
    "    [0, 1, 0, 0, 0],\n",
    "    [0, 0, 0, 0, 1],\n",
    "    [0, 1, 1, 0, 0]\n",
    "]\n",
    "# Resposta esperada: [1, 2, 2, 4]\n",
    "bacia = Rios(m_entrada)\n",
    "print(f'Lista de Extensão dos Rios\\n{bacia.TamanhoRios()}\\n')\n",
    "bacia.TamanhoBacia()\n",
    "print(f'\\nDicionário do Mapa Hidrográfico\\n{bacia.MapaBacia()}\\n')\n"
   ]
  },
  {
   "cell_type": "code",
   "execution_count": 26,
   "id": "150f31a0",
   "metadata": {},
   "outputs": [
    {
     "name": "stdout",
     "output_type": "stream",
     "text": [
      "Lista de Extensão dos Rios\n",
      "[1, 1, 3, 4, 8]\n",
      "\n",
      "Bacia Hidrográfica oriunda de Matriz com\n",
      "7 Linhas e 5 Colunas\n",
      "\n",
      "Dicionário do Mapa Hidrográfico\n",
      "{'03': ['13', '14', '23'], '10': ['11', '20'], '31': ['31'], '34': ['34'], '50': ['51', '52', '53', '54', '64', '62', '60']}\n",
      "\n"
     ]
    }
   ],
   "source": [
    "mapa_1 = [[0, 0, 0, 1, 0],\n",
    "          [1, 1, 0, 1, 1],\n",
    "          [1, 0, 0, 1, 0],\n",
    "          [0, 1, 0, 0, 1],\n",
    "          [0, 0, 0, 0, 0],\n",
    "          [1, 1, 1, 1, 1],\n",
    "          [1, 0, 1, 0, 1]]\n",
    "# Resposta esperada: [1, 1, 3, 4, 8]\n",
    "bacia = Rios(mapa_1)\n",
    "print(f'Lista de Extensão dos Rios\\n{bacia.TamanhoRios()}\\n')\n",
    "bacia.TamanhoBacia()\n",
    "print(f'\\nDicionário do Mapa Hidrográfico\\n{bacia.MapaBacia()}\\n')\n"
   ]
  },
  {
   "cell_type": "code",
   "execution_count": 27,
   "id": "cbf11a88",
   "metadata": {},
   "outputs": [
    {
     "name": "stdout",
     "output_type": "stream",
     "text": [
      "Lista de Extensão dos Rios\n",
      "[1, 1, 5, 7]\n",
      "\n",
      "Bacia Hidrográfica oriunda de Matriz com\n",
      "9 Linhas e 3 Colunas\n",
      "\n",
      "Dicionário do Mapa Hidrográfico\n",
      "{'00': ['01', '10', '20', '30'], '32': ['32'], '41': ['41'], '50': ['60', '70', '71', '72', '62', '80']}\n",
      "\n"
     ]
    }
   ],
   "source": [
    "mapa_2 = [[1, 1, 0],\n",
    "          [1, 0, 0],\n",
    "          [1, 0, 0],\n",
    "          [1, 0, 1],\n",
    "          [0, 1, 0],\n",
    "          [1, 0, 0],\n",
    "          [1, 0, 1],\n",
    "          [1, 1, 1],\n",
    "          [1, 0, 0]]\n",
    "\n",
    "# Resposta esperada: [1, 1, 5, 7]\n",
    "bacia = Rios(mapa_2)\n",
    "print(f'Lista de Extensão dos Rios\\n{bacia.TamanhoRios()}\\n')\n",
    "bacia.TamanhoBacia()\n",
    "print(f'\\nDicionário do Mapa Hidrográfico\\n{bacia.MapaBacia()}\\n')\n"
   ]
  },
  {
   "cell_type": "code",
   "execution_count": 28,
   "id": "f5a6ca41",
   "metadata": {},
   "outputs": [
    {
     "name": "stdout",
     "output_type": "stream",
     "text": [
      "Lista de Extensão dos Rios\n",
      "[1, 1, 1, 1, 1, 3, 3, 3, 6]\n",
      "\n",
      "Bacia Hidrográfica oriunda de Matriz com\n",
      "11 Linhas e 4 Colunas\n",
      "\n",
      "Dicionário do Mapa Hidrográfico\n",
      "{'02': ['02'], '10': ['11', '21'], '13': ['13'], '33': ['43', '42'], '40': ['40'], '51': ['51'], '62': ['62'], '70': ['71', '80'], '73': ['83', '82', '93', '103', '102']}\n",
      "\n"
     ]
    }
   ],
   "source": [
    "mapa_3 = [[0, 0, 1, 0],\n",
    "          [1, 1, 0, 1],\n",
    "          [0, 1, 0, 0],\n",
    "          [0, 0, 0, 1],\n",
    "          [1, 0, 1, 1],\n",
    "          [0, 1, 0, 0],\n",
    "          [0, 0, 1, 0],\n",
    "          [1, 1, 0, 1],\n",
    "          [1, 0, 1, 1],\n",
    "          [0, 0, 0, 1],\n",
    "          [0, 0, 1, 1]]\n",
    "\n",
    "# Resposta esperada: [1, 1, 1, 1, 1, 3, 3, 3, 6]\n",
    "bacia = Rios(mapa_3)\n",
    "print(f'Lista de Extensão dos Rios\\n{bacia.TamanhoRios()}\\n')\n",
    "bacia.TamanhoBacia()\n",
    "print(f'\\nDicionário do Mapa Hidrográfico\\n{bacia.MapaBacia()}\\n')\n"
   ]
  },
  {
   "cell_type": "code",
   "execution_count": 29,
   "id": "6de2cb6c",
   "metadata": {},
   "outputs": [
    {
     "name": "stdout",
     "output_type": "stream",
     "text": [
      "Lista de Extensão dos Rios\n",
      "[1, 2, 20]\n",
      "\n",
      "Bacia Hidrográfica oriunda de Matriz com\n",
      "10 Linhas e 4 Colunas\n",
      "\n",
      "Dicionário do Mapa Hidrográfico\n",
      "{'00': ['01', '02', '03', '12', '11', '10', '20', '21', '22', '32', '31', '30', '40', '41', '42', '43', '52', '50', '60'], '90': ['90'], '92': ['93']}\n",
      "\n"
     ]
    }
   ],
   "source": [
    "mapa_4 = [[1, 1, 1, 1],\n",
    "          [1, 1, 1, 0],\n",
    "          [1, 1, 1, 0],\n",
    "          [1, 1, 1, 0],\n",
    "          [1, 1, 1, 1],\n",
    "          [1, 0, 1, 0],\n",
    "          [1, 0, 0, 0],\n",
    "          [0, 0, 0, 0],\n",
    "          [0, 0, 0, 0],\n",
    "          [1, 0, 1, 1]]\n",
    "\n",
    "# Resposta esperada: [1, 2, 20]\n",
    "bacia = Rios(mapa_4)\n",
    "print(f'Lista de Extensão dos Rios\\n{bacia.TamanhoRios()}\\n')\n",
    "bacia.TamanhoBacia()\n",
    "print(f'\\nDicionário do Mapa Hidrográfico\\n{bacia.MapaBacia()}\\n')\n"
   ]
  },
  {
   "cell_type": "code",
   "execution_count": 30,
   "id": "fca62d3c",
   "metadata": {},
   "outputs": [
    {
     "name": "stdout",
     "output_type": "stream",
     "text": [
      "Lista de Extensão dos Rios\n",
      "[1, 7]\n",
      "\n",
      "Bacia Hidrográfica oriunda de Matriz com\n",
      "4 Linhas e 4 Colunas\n",
      "\n",
      "Dicionário do Mapa Hidrográfico\n",
      "{'00': ['01', '02', '03', '10', '20', '30'], '33': ['33']}\n",
      "\n"
     ]
    }
   ],
   "source": [
    "mapa_5 = [[1, 1, 1, 1],\n",
    "          [1, 0, 0, 0],\n",
    "          [1, 0, 0, 0],\n",
    "          [1, 0, 0, 1]]\n",
    "\n",
    "# Resposta esperada: [1, 7]\n",
    "bacia = Rios(mapa_5)\n",
    "print(f'Lista de Extensão dos Rios\\n{bacia.TamanhoRios()}\\n')\n",
    "bacia.TamanhoBacia()\n",
    "print(f'\\nDicionário do Mapa Hidrográfico\\n{bacia.MapaBacia()}\\n')\n"
   ]
  },
  {
   "cell_type": "code",
   "execution_count": 31,
   "id": "f0550de7",
   "metadata": {},
   "outputs": [
    {
     "name": "stdout",
     "output_type": "stream",
     "text": [
      "Lista de Extensão dos Rios\n",
      "[1, 1, 1, 1, 10]\n",
      "\n",
      "Bacia Hidrográfica oriunda de Matriz com\n",
      "5 Linhas e 5 Colunas\n",
      "\n",
      "Dicionário do Mapa Hidrográfico\n",
      "{'00': ['00'], '02': ['12', '13', '23', '33', '32', '31', '21', '11', '42'], '04': ['04'], '40': ['40'], '44': ['44']}\n",
      "\n"
     ]
    }
   ],
   "source": [
    "mapa_6 = [[1,0,1,0,1],\n",
    "[0,1,1,1,0],\n",
    "[0,1,0,1,0],\n",
    "[0,1,1,1,0],\n",
    "[1,0,1,0,1]]\n",
    "\n",
    "# Resposta esperada: [1, 1, 1, 1, 10]\n",
    "bacia = Rios(mapa_6)\n",
    "print(f'Lista de Extensão dos Rios\\n{bacia.TamanhoRios()}\\n')\n",
    "bacia.TamanhoBacia()\n",
    "print(f'\\nDicionário do Mapa Hidrográfico\\n{bacia.MapaBacia()}\\n')\n"
   ]
  },
  {
   "cell_type": "code",
   "execution_count": 32,
   "id": "b93c7aef",
   "metadata": {},
   "outputs": [
    {
     "name": "stdout",
     "output_type": "stream",
     "text": [
      "Lista de Extensão dos Rios\n",
      "[9]\n",
      "\n",
      "Bacia Hidrográfica oriunda de Matriz com\n",
      "5 Linhas e 5 Colunas\n",
      "\n",
      "Dicionário do Mapa Hidrográfico\n",
      "{'02': ['12', '22', '23', '24', '21', '20', '32', '42']}\n",
      "\n"
     ]
    }
   ],
   "source": [
    "mapa_7 = [[0,0,1,0,0],\n",
    "[0,0,1,0,0],\n",
    "[1,1,1,1,1],\n",
    "[0,0,1,0,0],\n",
    "[0,0,1,0,0]]\n",
    "\n",
    "# Resposta esperada: [9]\n",
    "bacia = Rios(mapa_7)\n",
    "print(f'Lista de Extensão dos Rios\\n{bacia.TamanhoRios()}\\n')\n",
    "bacia.TamanhoBacia()\n",
    "print(f'\\nDicionário do Mapa Hidrográfico\\n{bacia.MapaBacia()}\\n')\n"
   ]
  },
  {
   "cell_type": "code",
   "execution_count": 33,
   "id": "880e6c3a",
   "metadata": {},
   "outputs": [
    {
     "name": "stdout",
     "output_type": "stream",
     "text": [
      "Lista de Extensão dos Rios\n",
      "[1, 1, 10, 10, 12, 25, 30, 78, 78, 91, 97, 116, 125]\n",
      "\n",
      "Bacia Hidrográfica oriunda de Matriz com\n",
      "25 Linhas e 32 Colunas\n",
      "\n",
      "Dicionário do Mapa Hidrográfico\n",
      "{'01': ['02', '03', '04', '05', '06', '07', '08', '09', '010', '011', '012', '013', '113', '112', '111', '110', '19', '18', '17', '16', '15', '14', '13', '12', '23', '24', '25', '26', '27', '28', '29', '210', '211', '212', '213', '313', '312', '311', '310', '39', '38', '37', '36', '35', '34', '45', '46', '47', '48', '49', '410', '411', '412', '413', '513', '512', '511', '510', '59', '58', '57', '56', '67', '68', '69', '610', '611', '612', '613', '713', '712', '711', '710', '79', '78', '89', '810', '811', '812', '813', '913', '912', '911', '910', '1011', '1012', '1013', '1113', '1112', '1213'], '015': ['016', '017', '018', '019', '020', '021', '022', '023', '024', '025', '026', '125', '124', '123', '122', '121', '120', '119', '118', '117', '116', '115', '215', '216', '217', '218', '219', '220', '221', '222', '223', '224', '323', '322', '321', '320', '319', '318', '317', '316', '315', '415', '416', '417', '418', '419', '420', '421', '422', '521', '520', '519', '518', '517', '516', '515', '615', '616', '617', '618', '619', '620', '719', '718', '717', '716', '715', '815', '816', '817', '818', '917', '916', '915', '1015', '1016', '1115'], '028': ['029', '030', '031', '131', '130', '129', '230', '231', '331'], '10': ['20', '21', '31', '32', '42', '43', '53', '54', '64', '65', '75', '76', '86', '87', '97', '98', '108', '109', '119', '1110', '1210', '1211', '129', '128', '127', '126', '125', '124', '123', '122', '121', '120', '110', '111', '112', '113', '114', '115', '116', '117', '118', '107', '106', '105', '104', '103', '102', '101', '100', '90', '91', '92', '93', '94', '95', '96', '85', '84', '83', '82', '81', '80', '70', '71', '72', '73', '74', '63', '62', '61', '60', '50', '51', '52', '41', '40', '30'], '127': ['227', '228', '328', '329', '429', '430', '530', '531', '631', '630', '629', '628', '627', '626', '625', '624', '623', '622', '722', '723', '724', '725', '726', '727', '728', '729', '730', '731', '831', '830', '829', '828', '827', '826', '825', '824', '823', '822', '821', '820', '920', '921', '922', '923', '924', '925', '926', '927', '928', '929', '930', '931', '1031', '1030', '1029', '1028', '1027', '1026', '1025', '1024', '1023', '1022', '1021', '1020', '1019', '1018', '1118', '1119', '1120', '1121', '1122', '1123', '1124', '1125', '1126', '1127', '1128', '1129', '1130', '1131', '1231', '1230', '1229', '1228', '1227', '1226', '1225', '1224', '1223', '1222', '1221', '1220', '1219', '1218', '1217', '1216', '1117', '919', '721', '523', '524', '525', '526', '527', '528', '529', '428', '427', '426', '425', '424', '325', '326', '327', '226'], '140': ['141', '142', '152', '151', '150', '160', '161', '162', '172', '171', '170'], '144': ['145', '146', '147', '148', '149', '1410', '1411', '1412', '1413', '1513', '1512', '1511', '1510', '159', '158', '157', '156', '155', '154', '164', '165', '166', '176', '175', '174', '184', '185', '186', '196', '197', '198', '199', '1910', '1911', '1912', '1913', '1813', '1812', '1811', '1810', '1710', '1711', '1712', '1713', '1613', '1612', '1611', '1610', '2013', '2012', '2011', '2010', '209', '208', '207', '206', '205', '204', '203', '202', '201', '200', '190', '191', '192', '193', '194', '195', '210', '211', '212', '213', '214', '215', '216', '217', '218', '219', '2110', '2111', '2112', '2113', '2213', '2212', '2211', '2210', '229', '228', '227', '226', '225', '224', '223', '222', '221', '220', '230', '231', '232', '233', '234', '235', '236', '237', '238', '239', '2310', '2311', '2312', '2313', '2413', '2412', '2411', '2410', '249', '248', '247', '246', '245', '244', '243', '242', '241', '240'], '1415': ['1416', '1417', '1418', '1419', '1420', '1421', '1422', '1423', '1424', '1425', '1426', '1427', '1428', '1429', '1430', '1431', '1531', '1530', '1529', '1528', '1527', '1526', '1525', '1524', '1523', '1522', '1521', '1520', '1519', '1518', '1517', '1516', '1617', '1618', '1619', '1620', '1621', '1622', '1623', '1624', '1625', '1626', '1627', '1628', '1629', '1630', '1631', '1730', '1729', '1728', '1727', '1726', '1725', '1724', '1723', '1722', '1721', '1720', '1719', '1718', '1819', '1820', '1821', '1822', '1823', '1824', '1825', '1826', '1827', '1828', '1829', '1928', '1927', '1926', '1925', '1924', '1923', '1922', '1921', '1920', '2021', '2022', '2023', '2024', '2025', '2026', '2027', '2126', '2125', '2124', '2123', '2122', '2223', '2224', '2225', '2324'], '1615': ['1715', '1716', '1816', '1817', '1917', '1918', '1916', '1915', '1815'], '178': ['178'], '1831': ['1831'], '2029': ['2030', '2031', '2131', '2130', '2129', '2128', '2228', '2229', '2230', '2231', '2331', '2330', '2329', '2328', '2327', '2326', '2426', '2427', '2428', '2429', '2430', '2431', '2425', '2227'], '2115': ['2116', '2117', '2118', '2119', '2120', '2220', '2221', '2321', '2322', '2422', '2423', '2421', '2420', '2419', '2418', '2417', '2416', '2415', '2315', '2316', '2317', '2318', '2319', '2320', '2219', '2218', '2217', '2216', '2215']}\n",
      "\n"
     ]
    }
   ],
   "source": [
    "mapa_8=[[0, 1, 1, 1, 1, 1, 1, 1, 1, 1, 1, 1, 1, 1, 0, 1, 1, 1, 1, 1, 1, 1, 1, 1, 1, 1, 1, 0, 1, 1, 1, 1],\n",
    "          [1, 0, 1, 1, 1, 1, 1, 1, 1, 1, 1, 1, 1, 1, 0, 1, 1, 1, 1, 1, 1, 1, 1, 1, 1, 1, 0, 1, 0, 1, 1, 1],\n",
    "          [1, 1, 0, 1, 1, 1, 1, 1, 1, 1, 1, 1, 1, 1, 0, 1, 1, 1, 1, 1, 1, 1, 1, 1, 1, 0, 1, 1, 1, 0, 1, 1],\n",
    "          [1, 1, 1, 0, 1, 1, 1, 1, 1, 1, 1, 1, 1, 1, 0, 1, 1, 1, 1, 1, 1, 1, 1, 1, 0, 1, 1, 1, 1, 1, 0, 1],\n",
    "          [1, 1, 1, 1, 0, 1, 1, 1, 1, 1, 1, 1, 1, 1, 0, 1, 1, 1, 1, 1, 1, 1, 1, 0, 1, 1, 1, 1, 1, 1, 1, 0],\n",
    "          [1, 1, 1, 1, 1, 0, 1, 1, 1, 1, 1, 1, 1, 1, 0, 1, 1, 1, 1, 1, 1, 1, 0, 1, 1, 1, 1, 1, 1, 1, 1, 1],\n",
    "          [1, 1, 1, 1, 1, 1, 0, 1, 1, 1, 1, 1, 1, 1, 0, 1, 1, 1, 1, 1, 1, 0, 1, 1, 1, 1, 1, 1, 1, 1, 1, 1],\n",
    "          [1, 1, 1, 1, 1, 1, 1, 0, 1, 1, 1, 1, 1, 1, 0, 1, 1, 1, 1, 1, 0, 1, 1, 1, 1, 1, 1, 1, 1, 1, 1, 1],\n",
    "          [1, 1, 1, 1, 1, 1, 1, 1, 0, 1, 1, 1, 1, 1, 0, 1, 1, 1, 1, 0, 1, 1, 1, 1, 1, 1, 1, 1, 1, 1, 1, 1],\n",
    "          [1, 1, 1, 1, 1, 1, 1, 1, 1, 0, 1, 1, 1, 1, 0, 1, 1, 1, 0, 1, 1, 1, 1, 1, 1, 1, 1, 1, 1, 1, 1, 1],\n",
    "          [1, 1, 1, 1, 1, 1, 1, 1, 1, 1, 0, 1, 1, 1, 0, 1, 1, 0, 1, 1, 1, 1, 1, 1, 1, 1, 1, 1, 1, 1, 1, 1],\n",
    "          [1, 1, 1, 1, 1, 1, 1, 1, 1, 1, 1, 0, 1, 1, 0, 1, 0, 1, 1, 1, 1, 1, 1, 1, 1, 1, 1, 1, 1, 1, 1, 1],\n",
    "          [1, 1, 1, 1, 1, 1, 1, 1, 1, 1, 1, 1, 0, 1, 0, 0, 1, 1, 1, 1, 1, 1, 1, 1, 1, 1, 1, 1, 1, 1, 1, 1],\n",
    "          [0, 0, 0, 0, 0, 0, 0, 0, 0, 0, 0, 0, 0, 0, 0, 0, 0, 0, 0, 0, 0, 0, 0, 0, 0, 0, 0, 0, 0, 0, 0, 0],\n",
    "          [1, 1, 1, 0, 1, 1, 1, 1, 1, 1, 1, 1, 1, 1, 0, 1, 1, 1, 1, 1, 1, 1, 1, 1, 1, 1, 1, 1, 1, 1, 1, 1],\n",
    "          [1, 1, 1, 0, 1, 1, 1, 1, 1, 1, 1, 1, 1, 1, 0, 0, 1, 1, 1, 1, 1, 1, 1, 1, 1, 1, 1, 1, 1, 1, 1, 1],\n",
    "          [1, 1, 1, 0, 1, 1, 1, 0, 0, 0, 1, 1, 1, 1, 0, 1, 0, 1, 1, 1, 1, 1, 1, 1, 1, 1, 1, 1, 1, 1, 1, 1],\n",
    "          [1, 1, 1, 0, 1, 1, 1, 0, 1, 0, 1, 1, 1, 1, 0, 1, 1, 0, 1, 1, 1, 1, 1, 1, 1, 1, 1, 1, 1, 1, 1, 0],\n",
    "          [0, 0, 0, 0, 1, 1, 1, 0, 0, 0, 1, 1, 1, 1, 0, 1, 1, 1, 0, 1, 1, 1, 1, 1, 1, 1, 1, 1, 1, 1, 0, 1],\n",
    "          [1, 1, 1, 1, 1, 1, 1, 1, 1, 1, 1, 1, 1, 1, 0, 1, 1, 1, 1, 0, 1, 1, 1, 1, 1, 1, 1, 1, 1, 0, 0, 0],\n",
    "          [1, 1, 1, 1, 1, 1, 1, 1, 1, 1, 1, 1, 1, 1, 0, 0, 0, 0, 0, 0, 0, 1, 1, 1, 1, 1, 1, 1, 0, 1, 1, 1],\n",
    "          [1, 1, 1, 1, 1, 1, 1, 1, 1, 1, 1, 1, 1, 1, 0, 1, 1, 1, 1, 1, 1, 0, 1, 1, 1, 1, 1, 0, 1, 1, 1, 1],\n",
    "          [1, 1, 1, 1, 1, 1, 1, 1, 1, 1, 1, 1, 1, 1, 0, 1, 1, 1, 1, 1, 1, 1, 0, 1, 1, 1, 0, 1, 1, 1, 1, 1],\n",
    "          [1, 1, 1, 1, 1, 1, 1, 1, 1, 1, 1, 1, 1, 1, 0, 1, 1, 1, 1, 1, 1, 1, 1, 0, 1, 0, 1, 1, 1, 1, 1, 1],\n",
    "          [1, 1, 1, 1, 1, 1, 1, 1, 1, 1, 1, 1, 1, 1, 0, 1, 1, 1, 1, 1, 1, 1, 1, 1, 0, 1, 1, 1, 1, 1, 1, 1]]\n",
    "\n",
    "# Resposta esperada: [1, 1, 10, 10, 12, 25, 30, 78, 78, 91, 97, 116, 125]\n",
    "bacia = Rios(mapa_8)\n",
    "print(f'Lista de Extensão dos Rios\\n{bacia.TamanhoRios()}\\n')\n",
    "bacia.TamanhoBacia()\n",
    "print(f'\\nDicionário do Mapa Hidrográfico\\n{bacia.MapaBacia()}\\n')\n"
   ]
  },
  {
   "cell_type": "code",
   "execution_count": null,
   "id": "c5ddb235",
   "metadata": {},
   "outputs": [],
   "source": []
  },
  {
   "cell_type": "code",
   "execution_count": null,
   "id": "759fee42",
   "metadata": {},
   "outputs": [],
   "source": []
  }
 ],
 "metadata": {
  "kernelspec": {
   "display_name": "Python 3 (ipykernel)",
   "language": "python",
   "name": "python3"
  },
  "language_info": {
   "codemirror_mode": {
    "name": "ipython",
    "version": 3
   },
   "file_extension": ".py",
   "mimetype": "text/x-python",
   "name": "python",
   "nbconvert_exporter": "python",
   "pygments_lexer": "ipython3",
   "version": "3.10.1"
  }
 },
 "nbformat": 4,
 "nbformat_minor": 5
}
